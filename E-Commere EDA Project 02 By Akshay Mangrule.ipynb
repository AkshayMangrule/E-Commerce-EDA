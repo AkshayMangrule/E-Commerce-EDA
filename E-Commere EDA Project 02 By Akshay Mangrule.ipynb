{
 "cells": [
  {
   "cell_type": "code",
   "execution_count": 1,
   "id": "d3865cb0",
   "metadata": {},
   "outputs": [],
   "source": [
    "import pandas as pd \n",
    "import numpy as np\n",
    "import matplotlib.pyplot as plt\n",
    "import seaborn as sns\n",
    "from scipy.stats import linregress"
   ]
  },
  {
   "cell_type": "code",
   "execution_count": 2,
   "id": "1742f96d",
   "metadata": {},
   "outputs": [],
   "source": [
    "pd.set_option('display.max_columns', 500)"
   ]
  },
  {
   "cell_type": "code",
   "execution_count": 3,
   "id": "2d0b5673",
   "metadata": {},
   "outputs": [],
   "source": [
    "import warnings\n",
    "warnings.filterwarnings('ignore')\n",
    "sns.set_style('darkgrid')"
   ]
  },
  {
   "cell_type": "code",
   "execution_count": 4,
   "id": "b509c400",
   "metadata": {},
   "outputs": [],
   "source": [
    "#Loading the dataset into pandas\n",
    "data1=pd.read_csv(r'Ecommerce - UK Retailer.csv',encoding='latin1')"
   ]
  },
  {
   "cell_type": "code",
   "execution_count": 5,
   "id": "d508ea15",
   "metadata": {},
   "outputs": [
    {
     "name": "stdout",
     "output_type": "stream",
     "text": [
      "<class 'pandas.core.frame.DataFrame'>\n",
      "RangeIndex: 541909 entries, 0 to 541908\n",
      "Data columns (total 8 columns):\n",
      " #   Column       Non-Null Count   Dtype  \n",
      "---  ------       --------------   -----  \n",
      " 0   InvoiceNo    541909 non-null  object \n",
      " 1   StockCode    541909 non-null  object \n",
      " 2   Description  540455 non-null  object \n",
      " 3   Quantity     541909 non-null  int64  \n",
      " 4   InvoiceDate  541909 non-null  object \n",
      " 5   UnitPrice    541909 non-null  float64\n",
      " 6   CustomerID   406829 non-null  float64\n",
      " 7   Country      541909 non-null  object \n",
      "dtypes: float64(2), int64(1), object(5)\n",
      "memory usage: 33.1+ MB\n"
     ]
    }
   ],
   "source": [
    "data1.info()"
   ]
  },
  {
   "cell_type": "code",
   "execution_count": 6,
   "id": "f18e8496",
   "metadata": {},
   "outputs": [
    {
     "data": {
      "text/html": [
       "<div>\n",
       "<style scoped>\n",
       "    .dataframe tbody tr th:only-of-type {\n",
       "        vertical-align: middle;\n",
       "    }\n",
       "\n",
       "    .dataframe tbody tr th {\n",
       "        vertical-align: top;\n",
       "    }\n",
       "\n",
       "    .dataframe thead th {\n",
       "        text-align: right;\n",
       "    }\n",
       "</style>\n",
       "<table border=\"1\" class=\"dataframe\">\n",
       "  <thead>\n",
       "    <tr style=\"text-align: right;\">\n",
       "      <th></th>\n",
       "      <th>Quantity</th>\n",
       "      <th>UnitPrice</th>\n",
       "      <th>CustomerID</th>\n",
       "    </tr>\n",
       "  </thead>\n",
       "  <tbody>\n",
       "    <tr>\n",
       "      <th>count</th>\n",
       "      <td>541909.000000</td>\n",
       "      <td>541909.000000</td>\n",
       "      <td>406829.000000</td>\n",
       "    </tr>\n",
       "    <tr>\n",
       "      <th>mean</th>\n",
       "      <td>9.552250</td>\n",
       "      <td>4.611114</td>\n",
       "      <td>15287.690570</td>\n",
       "    </tr>\n",
       "    <tr>\n",
       "      <th>std</th>\n",
       "      <td>218.081158</td>\n",
       "      <td>96.759853</td>\n",
       "      <td>1713.600303</td>\n",
       "    </tr>\n",
       "    <tr>\n",
       "      <th>min</th>\n",
       "      <td>-80995.000000</td>\n",
       "      <td>-11062.060000</td>\n",
       "      <td>12346.000000</td>\n",
       "    </tr>\n",
       "    <tr>\n",
       "      <th>25%</th>\n",
       "      <td>1.000000</td>\n",
       "      <td>1.250000</td>\n",
       "      <td>13953.000000</td>\n",
       "    </tr>\n",
       "    <tr>\n",
       "      <th>50%</th>\n",
       "      <td>3.000000</td>\n",
       "      <td>2.080000</td>\n",
       "      <td>15152.000000</td>\n",
       "    </tr>\n",
       "    <tr>\n",
       "      <th>75%</th>\n",
       "      <td>10.000000</td>\n",
       "      <td>4.130000</td>\n",
       "      <td>16791.000000</td>\n",
       "    </tr>\n",
       "    <tr>\n",
       "      <th>max</th>\n",
       "      <td>80995.000000</td>\n",
       "      <td>38970.000000</td>\n",
       "      <td>18287.000000</td>\n",
       "    </tr>\n",
       "  </tbody>\n",
       "</table>\n",
       "</div>"
      ],
      "text/plain": [
       "            Quantity      UnitPrice     CustomerID\n",
       "count  541909.000000  541909.000000  406829.000000\n",
       "mean        9.552250       4.611114   15287.690570\n",
       "std       218.081158      96.759853    1713.600303\n",
       "min    -80995.000000  -11062.060000   12346.000000\n",
       "25%         1.000000       1.250000   13953.000000\n",
       "50%         3.000000       2.080000   15152.000000\n",
       "75%        10.000000       4.130000   16791.000000\n",
       "max     80995.000000   38970.000000   18287.000000"
      ]
     },
     "execution_count": 6,
     "metadata": {},
     "output_type": "execute_result"
    }
   ],
   "source": [
    "data1.describe()"
   ]
  },
  {
   "cell_type": "code",
   "execution_count": 7,
   "id": "b2619468",
   "metadata": {},
   "outputs": [
    {
     "data": {
      "text/plain": [
       "array(['United Kingdom', 'France', 'Australia', 'Netherlands', 'Germany',\n",
       "       'Norway', 'EIRE', 'Switzerland', 'Spain', 'Poland', 'Portugal',\n",
       "       'Italy', 'Belgium', 'Lithuania', 'Japan', 'Iceland',\n",
       "       'Channel Islands', 'Denmark', 'Cyprus', 'Sweden', 'Austria',\n",
       "       'Israel', 'Finland', 'Bahrain', 'Greece', 'Hong Kong', 'Singapore',\n",
       "       'Lebanon', 'United Arab Emirates', 'Saudi Arabia',\n",
       "       'Czech Republic', 'Canada', 'Unspecified', 'Brazil', 'USA',\n",
       "       'European Community', 'Malta', 'RSA'], dtype=object)"
      ]
     },
     "execution_count": 7,
     "metadata": {},
     "output_type": "execute_result"
    }
   ],
   "source": [
    "Country=data1.Country.unique()\n",
    "Country"
   ]
  },
  {
   "cell_type": "code",
   "execution_count": 8,
   "id": "73c4bb6c",
   "metadata": {},
   "outputs": [
    {
     "data": {
      "text/html": [
       "<div>\n",
       "<style scoped>\n",
       "    .dataframe tbody tr th:only-of-type {\n",
       "        vertical-align: middle;\n",
       "    }\n",
       "\n",
       "    .dataframe tbody tr th {\n",
       "        vertical-align: top;\n",
       "    }\n",
       "\n",
       "    .dataframe thead th {\n",
       "        text-align: right;\n",
       "    }\n",
       "</style>\n",
       "<table border=\"1\" class=\"dataframe\">\n",
       "  <thead>\n",
       "    <tr style=\"text-align: right;\">\n",
       "      <th></th>\n",
       "      <th>InvoiceNo</th>\n",
       "      <th>StockCode</th>\n",
       "      <th>Description</th>\n",
       "      <th>Quantity</th>\n",
       "      <th>InvoiceDate</th>\n",
       "      <th>UnitPrice</th>\n",
       "      <th>CustomerID</th>\n",
       "      <th>Country</th>\n",
       "    </tr>\n",
       "  </thead>\n",
       "  <tbody>\n",
       "    <tr>\n",
       "      <th>0</th>\n",
       "      <td>536365</td>\n",
       "      <td>85123A</td>\n",
       "      <td>WHITE HANGING HEART T-LIGHT HOLDER</td>\n",
       "      <td>6</td>\n",
       "      <td>12/1/2010 8:26</td>\n",
       "      <td>2.55</td>\n",
       "      <td>17850.0</td>\n",
       "      <td>United Kingdom</td>\n",
       "    </tr>\n",
       "    <tr>\n",
       "      <th>1</th>\n",
       "      <td>536365</td>\n",
       "      <td>71053</td>\n",
       "      <td>WHITE METAL LANTERN</td>\n",
       "      <td>6</td>\n",
       "      <td>12/1/2010 8:26</td>\n",
       "      <td>3.39</td>\n",
       "      <td>17850.0</td>\n",
       "      <td>United Kingdom</td>\n",
       "    </tr>\n",
       "    <tr>\n",
       "      <th>2</th>\n",
       "      <td>536365</td>\n",
       "      <td>84406B</td>\n",
       "      <td>CREAM CUPID HEARTS COAT HANGER</td>\n",
       "      <td>8</td>\n",
       "      <td>12/1/2010 8:26</td>\n",
       "      <td>2.75</td>\n",
       "      <td>17850.0</td>\n",
       "      <td>United Kingdom</td>\n",
       "    </tr>\n",
       "    <tr>\n",
       "      <th>3</th>\n",
       "      <td>536365</td>\n",
       "      <td>84029G</td>\n",
       "      <td>KNITTED UNION FLAG HOT WATER BOTTLE</td>\n",
       "      <td>6</td>\n",
       "      <td>12/1/2010 8:26</td>\n",
       "      <td>3.39</td>\n",
       "      <td>17850.0</td>\n",
       "      <td>United Kingdom</td>\n",
       "    </tr>\n",
       "    <tr>\n",
       "      <th>4</th>\n",
       "      <td>536365</td>\n",
       "      <td>84029E</td>\n",
       "      <td>RED WOOLLY HOTTIE WHITE HEART.</td>\n",
       "      <td>6</td>\n",
       "      <td>12/1/2010 8:26</td>\n",
       "      <td>3.39</td>\n",
       "      <td>17850.0</td>\n",
       "      <td>United Kingdom</td>\n",
       "    </tr>\n",
       "  </tbody>\n",
       "</table>\n",
       "</div>"
      ],
      "text/plain": [
       "  InvoiceNo StockCode                          Description  Quantity  \\\n",
       "0    536365    85123A   WHITE HANGING HEART T-LIGHT HOLDER         6   \n",
       "1    536365     71053                  WHITE METAL LANTERN         6   \n",
       "2    536365    84406B       CREAM CUPID HEARTS COAT HANGER         8   \n",
       "3    536365    84029G  KNITTED UNION FLAG HOT WATER BOTTLE         6   \n",
       "4    536365    84029E       RED WOOLLY HOTTIE WHITE HEART.         6   \n",
       "\n",
       "      InvoiceDate  UnitPrice  CustomerID         Country  \n",
       "0  12/1/2010 8:26       2.55     17850.0  United Kingdom  \n",
       "1  12/1/2010 8:26       3.39     17850.0  United Kingdom  \n",
       "2  12/1/2010 8:26       2.75     17850.0  United Kingdom  \n",
       "3  12/1/2010 8:26       3.39     17850.0  United Kingdom  \n",
       "4  12/1/2010 8:26       3.39     17850.0  United Kingdom  "
      ]
     },
     "execution_count": 8,
     "metadata": {},
     "output_type": "execute_result"
    }
   ],
   "source": [
    "data1.head()"
   ]
  },
  {
   "cell_type": "markdown",
   "id": "d9f0465a",
   "metadata": {},
   "source": [
    "# Problem Statements: \n"
   ]
  },
  {
   "cell_type": "markdown",
   "id": "b5abcd66",
   "metadata": {},
   "source": [
    "## 1. Perform Basic EDA \n"
   ]
  },
  {
   "cell_type": "markdown",
   "id": "73496e68",
   "metadata": {},
   "source": [
    "####     A. Boxplot – All Numeric Variables"
   ]
  },
  {
   "cell_type": "code",
   "execution_count": 9,
   "id": "a8a0cb50",
   "metadata": {},
   "outputs": [
    {
     "data": {
      "text/plain": [
       "<AxesSubplot:xlabel='UnitPrice'>"
      ]
     },
     "execution_count": 9,
     "metadata": {},
     "output_type": "execute_result"
    },
    {
     "data": {
      "image/png": "[encoded data removed]",
      "text/plain": [
       "<Figure size 432x288 with 1 Axes>"
      ]
     },
     "metadata": {},
     "output_type": "display_data"
    }
   ],
   "source": [
    "#Ploting Box Plots for all the numerical avriables\n",
    "#PLoting Boxplot For Unitprice\n",
    "sns.boxplot(data1['UnitPrice'])"
   ]
  },
  {
   "cell_type": "code",
   "execution_count": 10,
   "id": "6eff4e54",
   "metadata": {},
   "outputs": [
    {
     "data": {
      "image/png": "[encoded data removed]",
      "text/plain": [
       "<Figure size 432x288 with 1 Axes>"
      ]
     },
     "metadata": {},
     "output_type": "display_data"
    }
   ],
   "source": [
    "#Ploting Boxplot for Quantity\n",
    "sns.boxplot(data1['Quantity'])\n",
    "plt.show()"
   ]
  },
  {
   "cell_type": "code",
   "execution_count": 11,
   "id": "b612198a",
   "metadata": {},
   "outputs": [
    {
     "data": {
      "image/png": "[encoded data removed]",
      "text/plain": [
       "<Figure size 432x288 with 1 Axes>"
      ]
     },
     "metadata": {},
     "output_type": "display_data"
    }
   ],
   "source": [
    "#Ploting Boxplot for CustomerID\n",
    "sns.boxplot(data1['CustomerID'])\n",
    "plt.show()"
   ]
  },
  {
   "cell_type": "code",
   "execution_count": 12,
   "id": "eb6d8cc7",
   "metadata": {},
   "outputs": [
    {
     "data": {
      "text/plain": [
       "<AxesSubplot:>"
      ]
     },
     "execution_count": 12,
     "metadata": {},
     "output_type": "execute_result"
    },
    {
     "data": {
      "image/png": "[encoded data removed]",
      "text/plain": [
       "<Figure size 432x288 with 1 Axes>"
      ]
     },
     "metadata": {},
     "output_type": "display_data"
    }
   ],
   "source": [
    "#Ploting Boxplot for Unitprice,Quantity & CustomerId\n",
    "data1.boxplot(column=[\"UnitPrice\",\"Quantity\",'CustomerID'])"
   ]
  },
  {
   "cell_type": "markdown",
   "id": "e1fa2f5f",
   "metadata": {},
   "source": [
    "#### B. Histogram – All Numeric Variables"
   ]
  },
  {
   "cell_type": "code",
   "execution_count": null,
   "id": "322fab0b",
   "metadata": {},
   "outputs": [],
   "source": [
    "#Ploting HistPlots for all the numerical avriables\n",
    "#PLoting Histplot For Unitprice\n",
    "plt.hist(data1[\"UnitPrice\"])\n",
    "plt.show()"
   ]
  },
  {
   "cell_type": "code",
   "execution_count": null,
   "id": "181ddbea",
   "metadata": {},
   "outputs": [],
   "source": [
    "#Ploting histplot for Quantity\n",
    "plt.hist(data1[\"Quantity\"])\n",
    "plt.show()"
   ]
  },
  {
   "cell_type": "code",
   "execution_count": null,
   "id": "a6c85301",
   "metadata": {},
   "outputs": [],
   "source": [
    "#Ploting histplot for CustomerID\n",
    "plt.hist(data1['CustomerID'])\n",
    "plt.show()"
   ]
  },
  {
   "cell_type": "code",
   "execution_count": null,
   "id": "ce5297d5",
   "metadata": {},
   "outputs": [],
   "source": [
    "#ploting all plots together \n",
    "data1.hist(column=['UnitPrice','Quantity','CustomerID'])\n",
    "plt.show()"
   ]
  },
  {
   "cell_type": "markdown",
   "id": "bf64dd97",
   "metadata": {},
   "source": [
    "#### C. Distribution Plot – All Numeric Variables "
   ]
  },
  {
   "cell_type": "code",
   "execution_count": null,
   "id": "bb925aae",
   "metadata": {},
   "outputs": [],
   "source": [
    "#ploting distplot for unitprice\n",
    "sns.distplot(data1.UnitPrice,kde=False,color='r')\n",
    "plt.show()"
   ]
  },
  {
   "cell_type": "code",
   "execution_count": null,
   "id": "6b04953c",
   "metadata": {},
   "outputs": [],
   "source": [
    "#ploting distplot for Quantity\n",
    "sns.distplot(data1.Quantity,kde=False,color='r')\n",
    "plt.show()"
   ]
  },
  {
   "cell_type": "code",
   "execution_count": null,
   "id": "aaef2698",
   "metadata": {},
   "outputs": [],
   "source": [
    "#ploting distplot for CustomerID\n",
    "sns.distplot(data1.CustomerID,kde=False,color='r')\n",
    "plt.show()"
   ]
  },
  {
   "cell_type": "markdown",
   "id": "0264a8f6",
   "metadata": {},
   "source": [
    "#### D. Aggregation for all numerical Columns "
   ]
  },
  {
   "cell_type": "code",
   "execution_count": null,
   "id": "2ed33083",
   "metadata": {},
   "outputs": [],
   "source": [
    "#describing dataset\n",
    "data1.describe()"
   ]
  },
  {
   "cell_type": "code",
   "execution_count": null,
   "id": "3d50aa60",
   "metadata": {},
   "outputs": [],
   "source": [
    "#Creating new subset for numerical veriables\n",
    "newdf=data1[[\"UnitPrice\",\"Quantity\",\"CustomerID\"]]"
   ]
  },
  {
   "cell_type": "code",
   "execution_count": null,
   "id": "9b1b0421",
   "metadata": {},
   "outputs": [],
   "source": [
    "#looking how subset is created\n",
    "newdf.head()"
   ]
  },
  {
   "cell_type": "code",
   "execution_count": null,
   "id": "fba65d20",
   "metadata": {},
   "outputs": [],
   "source": [
    "#Sum of all the numerical data\n",
    "newdf.sum()"
   ]
  },
  {
   "cell_type": "code",
   "execution_count": null,
   "id": "e9b6c599",
   "metadata": {},
   "outputs": [],
   "source": [
    "#Mean of the all numerical values\n",
    "newdf.mean()"
   ]
  },
  {
   "cell_type": "code",
   "execution_count": null,
   "id": "30e4102f",
   "metadata": {},
   "outputs": [],
   "source": [
    "#Median of the all numerical values\n",
    "newdf.median()"
   ]
  },
  {
   "cell_type": "code",
   "execution_count": null,
   "id": "abdac478",
   "metadata": {},
   "outputs": [],
   "source": [
    "#Standard deviations of the all numerical values\n",
    "newdf.std()"
   ]
  },
  {
   "cell_type": "code",
   "execution_count": null,
   "id": "856f9af0",
   "metadata": {},
   "outputs": [],
   "source": [
    "#Max of the all numerical values\n",
    "newdf.max()"
   ]
  },
  {
   "cell_type": "code",
   "execution_count": null,
   "id": "313ba549",
   "metadata": {},
   "outputs": [],
   "source": [
    "#Minimum of the all numerical values\n",
    "newdf.min()"
   ]
  },
  {
   "cell_type": "code",
   "execution_count": null,
   "id": "a0c71332",
   "metadata": {},
   "outputs": [],
   "source": [
    "data1.head()"
   ]
  },
  {
   "cell_type": "markdown",
   "id": "6fc61934",
   "metadata": {},
   "source": [
    "E. Unique Values across all columns"
   ]
  },
  {
   "cell_type": "code",
   "execution_count": null,
   "id": "7ff5a476",
   "metadata": {},
   "outputs": [],
   "source": [
    "#finding unique values for Invoice table\n",
    "data1.InvoiceNo.unique()"
   ]
  },
  {
   "cell_type": "code",
   "execution_count": null,
   "id": "248420c5",
   "metadata": {},
   "outputs": [],
   "source": [
    "#finding unique values for Stock Code\n",
    "data1.StockCode.unique()"
   ]
  },
  {
   "cell_type": "code",
   "execution_count": null,
   "id": "31aa57d0",
   "metadata": {},
   "outputs": [],
   "source": [
    "#finding unique values for UnitPrice\n",
    "data1.UnitPrice.unique()"
   ]
  },
  {
   "cell_type": "code",
   "execution_count": null,
   "id": "0ee83140",
   "metadata": {},
   "outputs": [],
   "source": [
    "#finding unique values for Description\n",
    "data1.Description.unique()"
   ]
  },
  {
   "cell_type": "code",
   "execution_count": null,
   "id": "e98754dc",
   "metadata": {},
   "outputs": [],
   "source": [
    "#finding unique values for Country\n",
    "data1.Country.unique()"
   ]
  },
  {
   "cell_type": "code",
   "execution_count": null,
   "id": "4cab7863",
   "metadata": {},
   "outputs": [],
   "source": [
    "#finding unique values for CustomerID\n",
    "data1.CustomerID.unique()"
   ]
  },
  {
   "cell_type": "markdown",
   "id": "088673a8",
   "metadata": {},
   "source": [
    "F. Duplicate values across all columns "
   ]
  },
  {
   "cell_type": "code",
   "execution_count": null,
   "id": "e5a020f0",
   "metadata": {},
   "outputs": [],
   "source": [
    "#finding the Duplicate values in rating column\n",
    "data1[data1.duplicated()]"
   ]
  },
  {
   "cell_type": "markdown",
   "id": "8519b0ed",
   "metadata": {},
   "source": [
    "G. Correlation – Heatmap - All Numeric Variables"
   ]
  },
  {
   "cell_type": "code",
   "execution_count": null,
   "id": "830dc7cf",
   "metadata": {},
   "outputs": [],
   "source": [
    "#checking correlation whole for dataset\n",
    "data1.corr()"
   ]
  },
  {
   "cell_type": "code",
   "execution_count": null,
   "id": "48576d54",
   "metadata": {},
   "outputs": [],
   "source": [
    "#ploting the heatmap for all teh numerical values\n",
    "sns.heatmap(data1.corr(), cmap=\"YlGnBu\", annot=True)\n",
    "plt.show() "
   ]
  },
  {
   "cell_type": "markdown",
   "id": "6bfe4517",
   "metadata": {},
   "source": [
    "H. Regression Plot - All Numeric Variables "
   ]
  },
  {
   "cell_type": "code",
   "execution_count": null,
   "id": "3239979b",
   "metadata": {},
   "outputs": [],
   "source": [
    "sns.regplot(x=\"Quantity\", y=\"UnitPrice\",data=data1);"
   ]
  },
  {
   "cell_type": "code",
   "execution_count": null,
   "id": "83c9dac3",
   "metadata": {},
   "outputs": [],
   "source": [
    "sns.regplot(x=\"UnitPrice\", y=\"CustomerID\", data=data1);"
   ]
  },
  {
   "cell_type": "code",
   "execution_count": null,
   "id": "56c150f3",
   "metadata": {},
   "outputs": [],
   "source": [
    "sns.regplot(x=\"CustomerID\", y=\"Quantity\", data=data1);"
   ]
  },
  {
   "cell_type": "markdown",
   "id": "ff6ecb7f",
   "metadata": {},
   "source": [
    "I. Bar Plot – Every Categorical Variable vs every Numerical Variable "
   ]
  },
  {
   "cell_type": "code",
   "execution_count": 13,
   "id": "92d0fe19",
   "metadata": {},
   "outputs": [
    {
     "data": {
      "text/plain": [
       "<AxesSubplot:xlabel='Quantity', ylabel='Country'>"
      ]
     },
     "execution_count": 13,
     "metadata": {},
     "output_type": "execute_result"
    },
    {
     "data": {
      "image/png": "[encoded data removed]",
      "text/plain": [
       "<Figure size 432x288 with 1 Axes>"
      ]
     },
     "metadata": {},
     "output_type": "display_data"
    }
   ],
   "source": [
    "sns.barplot(x=\"Quantity\", y=\"Country\", data=data1)"
   ]
  },
  {
   "cell_type": "code",
   "execution_count": 16,
   "id": "ebd4d4e8",
   "metadata": {},
   "outputs": [
    {
     "data": {
      "text/plain": [
       "<AxesSubplot:xlabel='Country', ylabel='UnitPrice'>"
      ]
     },
     "execution_count": 16,
     "metadata": {},
     "output_type": "execute_result"
    },
    {
     "data": {
      "image/png": "[encoded data removed]",
      "text/plain": [
       "<Figure size 432x288 with 1 Axes>"
      ]
     },
     "metadata": {},
     "output_type": "display_data"
    }
   ],
   "source": [
    "sns.barplot(x='Country', y=\"UnitPrice\", data=data1)"
   ]
  },
  {
   "cell_type": "markdown",
   "id": "fdbb2a30",
   "metadata": {},
   "source": [
    "J. Pair plot - All Numeric Variables "
   ]
  },
  {
   "cell_type": "code",
   "execution_count": null,
   "id": "0dcfee4c",
   "metadata": {},
   "outputs": [],
   "source": [
    "#ploting pairplot for all the numerical values\n",
    "sns.pairplot(data1)"
   ]
  },
  {
   "cell_type": "markdown",
   "id": "191e630b",
   "metadata": {},
   "source": [
    "K. Line chart to show the trend of data - All Numeric/Date Variables"
   ]
  },
  {
   "cell_type": "code",
   "execution_count": null,
   "id": "1cf1fdd5",
   "metadata": {},
   "outputs": [],
   "source": [
    "#ploting line plot for date vs unitprice\n",
    "sns.lineplot(x='Quantity',y='UnitPrice',data=data1)"
   ]
  },
  {
   "cell_type": "markdown",
   "id": "ddc6ced4",
   "metadata": {},
   "source": [
    "L. Plot the skewness - All Numeric Variables "
   ]
  },
  {
   "cell_type": "code",
   "execution_count": null,
   "id": "03b81e53",
   "metadata": {},
   "outputs": [],
   "source": [
    "#ploting the skewness plot for Quantity\n",
    "sns.distplot(data1['Quantity'],color='r')\n",
    "ske=data1['Quantity'].skew()\n",
    "print('The skeweness of the Quantity plot is ',ske)"
   ]
  },
  {
   "cell_type": "code",
   "execution_count": null,
   "id": "cc0fb63d",
   "metadata": {},
   "outputs": [],
   "source": []
  },
  {
   "cell_type": "markdown",
   "id": "2e23ec34",
   "metadata": {},
   "source": [
    "#### 2. Check for missing values in all columns and replace them with the appropriate metric (Mean/Median/Mode) "
   ]
  },
  {
   "cell_type": "code",
   "execution_count": null,
   "id": "726aa84a",
   "metadata": {},
   "outputs": [],
   "source": [
    "#Checking for the missing/null values in rating column\n",
    "data1.isnull().sum()"
   ]
  },
  {
   "cell_type": "code",
   "execution_count": null,
   "id": "bdfe2512",
   "metadata": {},
   "outputs": [],
   "source": [
    "sns.distplot(data1[\"CustomerID\"])"
   ]
  },
  {
   "cell_type": "markdown",
   "id": "c3b4738d",
   "metadata": {},
   "source": [
    " As the data distribution is symmetric the appropriate metric is mean .So, we have to replace missing values with mean\n",
    " A symmetrical distribution occurs when the values of variables appear at regular frequencies \n",
    " If a line were drawn dissecting the middle of the graph, it would reveal two sides that mirror one other."
   ]
  },
  {
   "cell_type": "code",
   "execution_count": null,
   "id": "5fa56e05",
   "metadata": {},
   "outputs": [],
   "source": [
    "#Checking Null Values in Description  column\n",
    "data1.loc[data1['CustomerID'].isnull()]"
   ]
  },
  {
   "cell_type": "code",
   "execution_count": null,
   "id": "cf64a9f8",
   "metadata": {},
   "outputs": [],
   "source": [
    "mean_val=data1['CustomerID'].mean()\n",
    "type(mean_val)"
   ]
  },
  {
   "cell_type": "code",
   "execution_count": null,
   "id": "fbd19af0",
   "metadata": {},
   "outputs": [],
   "source": [
    "int(mean_val)"
   ]
  },
  {
   "cell_type": "code",
   "execution_count": null,
   "id": "53b5330b",
   "metadata": {},
   "outputs": [],
   "source": [
    "#getting the mean value of column\n",
    "data1['CustomerID']=data1['CustomerID'].fillna(mean_val)"
   ]
  },
  {
   "cell_type": "code",
   "execution_count": null,
   "id": "f8aa1916",
   "metadata": {},
   "outputs": [],
   "source": [
    "#Changing the null values in CustomerID Column\n",
    "data1.loc[data1['CustomerID'].isnull()]"
   ]
  },
  {
   "cell_type": "code",
   "execution_count": null,
   "id": "9970b1ff",
   "metadata": {},
   "outputs": [],
   "source": [
    "data1.dropna(inplace=True)"
   ]
  },
  {
   "cell_type": "markdown",
   "id": "7d53066e",
   "metadata": {},
   "source": [
    "#### 3. Remove duplicate rows"
   ]
  },
  {
   "cell_type": "code",
   "execution_count": null,
   "id": "ec7286f1",
   "metadata": {},
   "outputs": [],
   "source": [
    "data1[data1.duplicated()]"
   ]
  },
  {
   "cell_type": "code",
   "execution_count": null,
   "id": "bdf92bda",
   "metadata": {},
   "outputs": [],
   "source": [
    "data1.drop_duplicates(keep='first',inplace=True)"
   ]
  },
  {
   "cell_type": "code",
   "execution_count": null,
   "id": "06918e63",
   "metadata": {},
   "outputs": [],
   "source": [
    "data1[data1.duplicated()]"
   ]
  },
  {
   "cell_type": "markdown",
   "id": "06cea5d3",
   "metadata": {},
   "source": [
    "#### 4. Remove rows which have negative values in Quantity column "
   ]
  },
  {
   "cell_type": "code",
   "execution_count": null,
   "id": "f7f6fc35",
   "metadata": {},
   "outputs": [],
   "source": [
    "#checking for negative values in Quantity column\n",
    "(data1['Quantity']<0).sum()"
   ]
  },
  {
   "cell_type": "code",
   "execution_count": null,
   "id": "58728dde",
   "metadata": {},
   "outputs": [],
   "source": [
    "#removing the Negative values from Quantity column\n",
    "data1.drop(data1[data1[\"Quantity\"]<0].index,inplace=True)"
   ]
  },
  {
   "cell_type": "code",
   "execution_count": null,
   "id": "73c67be6",
   "metadata": {},
   "outputs": [],
   "source": [
    "#checking is there any negative values in Quantity column\n",
    "(data1['Quantity']<0).sum()"
   ]
  },
  {
   "cell_type": "markdown",
   "id": "21fd3c09",
   "metadata": {},
   "source": [
    "#### 5. Add the columns - Month, Day and Hour for the invoice "
   ]
  },
  {
   "cell_type": "code",
   "execution_count": null,
   "id": "3e756c69",
   "metadata": {},
   "outputs": [],
   "source": [
    "#inported the datetime Library\n",
    "import datetime as dt"
   ]
  },
  {
   "cell_type": "code",
   "execution_count": null,
   "id": "c6476145",
   "metadata": {},
   "outputs": [],
   "source": [
    "data1.head()"
   ]
  },
  {
   "cell_type": "code",
   "execution_count": null,
   "id": "f5255c3d",
   "metadata": {},
   "outputs": [],
   "source": [
    "#Storing the datetime in column\n",
    "data1['Indate'] = pd.to_datetime(data1.InvoiceDate, format='%m/%d/%Y %H:%M')"
   ]
  },
  {
   "cell_type": "code",
   "execution_count": null,
   "id": "4b5ab11b",
   "metadata": {},
   "outputs": [],
   "source": [
    "#creating new column for each variable and storing there respective values\n",
    "data1.insert(loc=1, column='Year', value=data1['Indate'].map(lambda x: 1*x.year ))\n",
    "data1.insert(loc=2, column='Month', value=data1.Indate.dt.month)\n",
    "data1.insert(loc=3, column='Day', value=(data1.Indate.dt.dayofweek)+1)\n",
    "data1.insert(loc=4, column='Hour', value=data1.Indate.dt.hour)\n",
    "data1.insert(loc=5, column='Minute', value=data1.Indate.dt.minute)"
   ]
  },
  {
   "cell_type": "code",
   "execution_count": null,
   "id": "0e058115",
   "metadata": {},
   "outputs": [],
   "source": [
    "# data1.drop('Year',axis=1,inplace=True)\n",
    "# data1.drop('Month',axis=1,inplace=True)\n",
    "# data1.drop('Day',axis=1,inplace=True)\n",
    "# data1.drop('Hour',axis=1,inplace=True)\n",
    "# data1.drop('Minute',axis=1,inplace=True)"
   ]
  },
  {
   "cell_type": "code",
   "execution_count": null,
   "id": "c70a8145",
   "metadata": {},
   "outputs": [],
   "source": [
    "#checking dataset\n",
    "data1.head()"
   ]
  },
  {
   "cell_type": "markdown",
   "id": "00044793",
   "metadata": {},
   "source": [
    "#### 6. How many orders made by the customers?"
   ]
  },
  {
   "cell_type": "code",
   "execution_count": null,
   "id": "fbe67764",
   "metadata": {},
   "outputs": [],
   "source": [
    "data1.groupby(by=['CustomerID','Country'],as_index=False)['InvoiceNo'].count().head()"
   ]
  },
  {
   "cell_type": "markdown",
   "id": "08903623",
   "metadata": {},
   "source": [
    "#### 7. TOP 5 customers with higher number of orders"
   ]
  },
  {
   "cell_type": "code",
   "execution_count": null,
   "id": "06c8141e",
   "metadata": {},
   "outputs": [],
   "source": [
    "#Assigning the total order in ttl_orders table\n",
    "ttl_orders=data1.groupby(by=['CustomerID','Country'],as_index=False)['InvoiceNo'].count()"
   ]
  },
  {
   "cell_type": "code",
   "execution_count": null,
   "id": "2f31bfd9",
   "metadata": {},
   "outputs": [],
   "source": [
    "#Here we are dorting the dataframe in descending order by Count of  Invoiceno \n",
    "ttl_orders.sort_values(by='InvoiceNo',ascending=False).head()"
   ]
  },
  {
   "cell_type": "markdown",
   "id": "c17b8b23",
   "metadata": {},
   "source": [
    "#### 8. How much money spent by the customers?"
   ]
  },
  {
   "cell_type": "code",
   "execution_count": null,
   "id": "5f69b657",
   "metadata": {},
   "outputs": [],
   "source": [
    "#finding the each records Amount \n",
    "data1['Total'] = data1['Quantity'] * data1['UnitPrice']"
   ]
  },
  {
   "cell_type": "code",
   "execution_count": null,
   "id": "b989294f",
   "metadata": {},
   "outputs": [],
   "source": [
    "#Summing up  and Grouping the the each customer id \n",
    "Amount=data1.groupby(by=['CustomerID','Country'], as_index=False)['Total'].sum()\n",
    "Amount.head()"
   ]
  },
  {
   "cell_type": "markdown",
   "id": "94224479",
   "metadata": {},
   "source": [
    "#### 9. TOP 5 customers with highest money spent"
   ]
  },
  {
   "cell_type": "code",
   "execution_count": null,
   "id": "e4a3967d",
   "metadata": {},
   "outputs": [],
   "source": [
    "#assigning the money Spent df to amount \n",
    "Amount=data1.groupby(by=['CustomerID','Country'], as_index=False)['Total'].sum()\n",
    "Amount.head()"
   ]
  },
  {
   "cell_type": "code",
   "execution_count": null,
   "id": "f8a76824",
   "metadata": {},
   "outputs": [],
   "source": [
    "#finding Top 5 customers who spent highest money \n",
    "Amount.sort_values(by='Total',ascending=False).head()"
   ]
  },
  {
   "cell_type": "markdown",
   "id": "a70ea9c1",
   "metadata": {},
   "source": [
    "#### 10. How many orders per month?"
   ]
  },
  {
   "cell_type": "code",
   "execution_count": null,
   "id": "62a38736",
   "metadata": {},
   "outputs": [],
   "source": [
    "#Here we grouped data with invoice id and becouse we have find out how many orders are there \n",
    "orders = data1.groupby('InvoiceNo')['Month'].unique().value_counts().sort_index()\n",
    "plt.plot(kind='bar',figsize=(15,6))\n",
    "orders.set_xlabel('Months',fontsize=17)\n",
    "orders.set_ylabel('Num of Orders',fontsize=17)\n",
    "orders.set_title('Number of orders by Months For 1 year ',fontsize=17)\n",
    "orders.set_xticklabels(('Dec 2010','Jan 2011','Feb 2011','Mar 2011','Apr 2011','May 2011','Jun 2011','July 2011','Aug 2011','Sep 2011','Oct 2011','Nov 2011'),\n",
    "                       rotation='horizontal', fontsize=15)\n",
    "plt.show()"
   ]
  },
  {
   "cell_type": "code",
   "execution_count": null,
   "id": "93cac47d",
   "metadata": {},
   "outputs": [],
   "source": [
    "# data1.groupby(['Month'],as_index=False)['InvoiceNo'].count()\n",
    "# plt.plot(kind='bar',figsize=(15,6))\n",
    "# sns.barplot(data1.Month,data1.InvoiceNo,palette='PiYG_r')\n",
    "# plt.Show()"
   ]
  },
  {
   "cell_type": "markdown",
   "id": "441aaea3",
   "metadata": {},
   "source": [
    "#### 11. How many orders per day? "
   ]
  },
  {
   "cell_type": "code",
   "execution_count": null,
   "id": "e194e733",
   "metadata": {},
   "outputs": [],
   "source": [
    "#checking values for day to orders\n",
    "data1.groupby('InvoiceNo')['Day'].value_counts().head()"
   ]
  },
  {
   "cell_type": "code",
   "execution_count": null,
   "id": "50d9d056",
   "metadata": {},
   "outputs": [],
   "source": [
    "#Here we grouped data with invoice id. becouse we have to find out how many orders are there by day\n",
    "orders= data1.groupby('InvoiceNo')['Day'].unique().value_counts().sort_index().plot(kind='bar',figsize=(10,6))\n",
    "orders.set_xlabel('Day',fontsize=17)\n",
    "orders.set_ylabel('Count of Orders',fontsize=17)\n",
    "orders.set_title('Number of orders for Every Days',fontsize=17)\n",
    "plt.show()"
   ]
  },
  {
   "cell_type": "markdown",
   "id": "3bd2f028",
   "metadata": {},
   "source": [
    "#### 12. How many orders per hour?"
   ]
  },
  {
   "cell_type": "code",
   "execution_count": null,
   "id": "b9c92ab0",
   "metadata": {},
   "outputs": [],
   "source": [
    "#checking values for day to orders\n",
    "data1.groupby('InvoiceNo')['Hour'].value_counts().head()"
   ]
  },
  {
   "cell_type": "code",
   "execution_count": null,
   "id": "b36d1fa3",
   "metadata": {},
   "outputs": [],
   "source": [
    "#Here we grouped data with invoice id. becouse we have to find out how many orders are there by day\n",
    "orders= data1.groupby('InvoiceNo')[\"Hour\"].unique().value_counts().plot(kind='bar',figsize=(15,6))\n",
    "orders.set_xlabel('Hour',fontsize=15)\n",
    "orders.set_ylabel('Number of Orders',fontsize=15)\n",
    "orders.set_title('Number of orders for different Hours',fontsize=15)\n",
    "plt.show()"
   ]
  },
  {
   "cell_type": "markdown",
   "id": "bdba5ea2",
   "metadata": {},
   "source": [
    "#### 13. How many orders for each country?"
   ]
  },
  {
   "cell_type": "code",
   "execution_count": null,
   "id": "b4af4dcb",
   "metadata": {},
   "outputs": [],
   "source": [
    "#checking values for Country to orders\n",
    "data1.groupby('Country')['InvoiceNo'].count().sort_values().head()"
   ]
  },
  {
   "cell_type": "code",
   "execution_count": null,
   "id": "8a0c6d9b",
   "metadata": {
    "scrolled": true
   },
   "outputs": [],
   "source": [
    "#Here we grouped data with Country. becouse we have to find out how many orders are there by Country\n",
    "orders_2= data1.groupby('Country')[\"InvoiceNo\"].count().sort_values()\n",
    "del orders_2['United Kingdom']\n",
    "plt.subplots(figsize=(15,6),)\n",
    "orders_2.plot(kind='barh',figsize=(15,6))\n",
    "\n",
    "plt.xlabel('Number of Orders', fontsize=12)\n",
    "plt.ylabel('Country', fontsize=12)\n",
    "plt.title('Number of Orders for different Countries', fontsize=12)\n",
    "plt.show()"
   ]
  },
  {
   "cell_type": "markdown",
   "id": "57046c0d",
   "metadata": {},
   "source": [
    "#### 14. Orders trend across months"
   ]
  },
  {
   "cell_type": "code",
   "execution_count": null,
   "id": "bbde2294",
   "metadata": {},
   "outputs": [],
   "source": [
    "#Here we grouped data with invoice id and becouse we have to find out how Show the trend line we are ploting a line chart\n",
    "orders = data1.groupby('InvoiceNo')['Month'].unique().value_counts().sort_index().\n",
    "plt.plot(kind='line',linewidth=5,figsize=(20,6))\n",
    "orders.set_xlabel('Months',fontsize=17)\n",
    "orders.set_ylabel('Num of Orders',fontsize=17)\n",
    "orders.set_title('Number of orders by Months For 1 year ',fontsize=17)\n",
    "plt.show()"
   ]
  },
  {
   "cell_type": "code",
   "execution_count": null,
   "id": "d3370c33",
   "metadata": {},
   "outputs": [],
   "source": [
    "fig = plt.figure(figsize=(15, 7))\n",
    "x = fig.add_subplot(111)\n",
    "\n",
    "x.set_xlabel('Month',fontsize=15)\n",
    "x.set_ylabel('Total Amount Spent ($)',fontsize=15)\n",
    "x.set_title('Total Amount Spent for Months',fontsize=15)\n",
    "\n",
    "x.bar(data1.groupby(by=['Year'])['InvoiceNo'].sum().index.tolist()[1:],\n",
    "        data1.groupby(by=['Year'])['InvoiceNo'].sum()[1:],\n",
    "        alpha=0.85,#If you want to make the graph plot more transparent, then you can make alpha less than 1, such as 0.5 or 0.25.\n",
    "        label='Amount Spent by Month')\n",
    "\n",
    "x1 = x.twinx()# tread line\n",
    "\n",
    "x1.set_ylabel('Percentage Change of Total Amount Spent (%)',fontsize=15)\n",
    "\n",
    "#pct_change()Percentage change between the current and a prior element.\n",
    "x1.plot(data1.groupby(by=['year_month'])['InvoiceNo'].sum().index.tolist()[1:], \n",
    "         data1.groupby(by=['year_month'])['InvoiceNo'].sum()[1:].pct_change().fillna(0)*100,\n",
    "         label='Percentage change of total amount spent (%)',\n",
    "         color='red')\n",
    "\n",
    "x.legend(loc='upper left')\n",
    "x1.legend(loc='upper right')\n",
    "\n",
    "fig.tight_layout()\n",
    "plt.show()"
   ]
  },
  {
   "cell_type": "markdown",
   "id": "2eaa438b",
   "metadata": {},
   "source": [
    "#### 15. How much money spent by each country?"
   ]
  },
  {
   "cell_type": "code",
   "execution_count": null,
   "id": "6eddcc34",
   "metadata": {},
   "outputs": [],
   "source": [
    "#here we are grouping rows with country and summing there total amount and ploting a horizantal bar chart\n",
    "amount_spent = data1.groupby('Country')['Total'].sum().sort_values()\n",
    "del amount_spent['United Kingdom']\n",
    "plt.subplots(figsize=(15,8))\n",
    "amount_spent.plot(kind='barh', fontsize=12)\n",
    "plt.xlabel('Money Spent (Dollar)', fontsize=12)\n",
    "plt.ylabel('Country', fontsize=12)\n",
    "plt.title('Money Spent by different Countries', fontsize=12)\n",
    "plt.show()"
   ]
  },
  {
   "cell_type": "code",
   "execution_count": null,
   "id": "5a8ca0f6",
   "metadata": {},
   "outputs": [],
   "source": [
    "data1.head()"
   ]
  },
  {
   "cell_type": "code",
   "execution_count": null,
   "id": "7a783523",
   "metadata": {},
   "outputs": [],
   "source": []
  }
 ],
 "metadata": {
  "kernelspec": {
   "display_name": "Python 3 (ipykernel)",
   "language": "python",
   "name": "python3"
  },
  "language_info": {
   "codemirror_mode": {
    "name": "ipython",
    "version": 3
   },
   "file_extension": ".py",
   "mimetype": "text/x-python",
   "name": "python",
   "nbconvert_exporter": "python",
   "pygments_lexer": "ipython3",
   "version": "3.9.7"
  }
 },
 "nbformat": 4,
 "nbformat_minor": 5
}
